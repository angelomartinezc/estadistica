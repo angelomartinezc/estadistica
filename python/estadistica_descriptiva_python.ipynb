{
 "cells": [
  {
   "cell_type": "markdown",
   "id": "d6575578",
   "metadata": {},
   "source": [
    "# Estadística Descriptiva con python"
   ]
  },
  {
   "cell_type": "markdown",
   "id": "1a05a4eb",
   "metadata": {},
   "source": [
    "Media aritmética: La media aritmética es el valor obtenido al sumar todos los datos y dividir el resultado entre el número total elementos. Se suele representar con la letra griega μ. Si tenemos una muestra de n valores, xi, la media aritmética, μ, es la suma de los valores divididos por el numero de elementos."
   ]
  },
  {
   "cell_type": "markdown",
   "id": "a790ed48",
   "metadata": {},
   "source": [
    "Desviación respecto a la media: La desviación respecto a la media es la diferencia en valor absoluto entre cada valor de la variable estadística y la media aritmética."
   ]
  },
  {
   "cell_type": "markdown",
   "id": "ef6459b0",
   "metadata": {},
   "source": [
    "Desviación típica: La desviación típica es la raíz cuadrada de la varianza. Se representa con la letra griega σ."
   ]
  },
  {
   "cell_type": "markdown",
   "id": "ed5505ea",
   "metadata": {},
   "source": [
    "Varianza: La varianza es la media aritmética del cuadrado de las desviaciones respecto a la media de una distribución estadística. La varianza intenta describir la dispersión de los datos. Se representa como σ2."
   ]
  },
  {
   "cell_type": "markdown",
   "id": "b366a875",
   "metadata": {},
   "source": [
    "Mediana: La mediana es el valor que ocupa el lugar central de todos los datos cuando éstos están ordenados de menor a mayor. Se representa con x˜.\n"
   ]
  },
  {
   "cell_type": "markdown",
   "id": "e5bf7c97",
   "metadata": {},
   "source": [
    "Moda: La moda es el valor que tiene mayor frecuencia absoluta. Se representa con M0"
   ]
  },
  {
   "cell_type": "markdown",
   "id": "4a16a2bf",
   "metadata": {},
   "source": [
    "Correlación: La correlación trata de establecer la relación o dependencia que existe entre las dos variables que intervienen en una distribución bidimensional. Es decir, determinar si los cambios en una de las variables influyen en los cambios de la otra. En caso de que suceda, diremos que las variables están correlacionadas o que hay correlación entre ellas. La correlación es positiva cuando los valores de las variables aumenta juntos; y es negativa cuando un valor de una variable se reduce cuando el valor de la otra variable aumenta."
   ]
  },
  {
   "cell_type": "markdown",
   "id": "f2e1e208",
   "metadata": {},
   "source": [
    "Covarianza: La covarianza es el equivalente de la varianza aplicado a una variable bidimensional. Es la media aritmética de los productos de las desviaciones de cada una de las variables respecto a sus medias respectivas.La covarianza indica el sentido de la correlación entre las variables; Si σxy>0 la correlación es directa; Si σxy<0 la correlación es inversa."
   ]
  },
  {
   "cell_type": "markdown",
   "id": "c9d439b4",
   "metadata": {},
   "source": [
    "Valor atípico: Un valor atípico es una observación que se aleja demasiado de la moda; esta muy lejos de la tendencia principal del resto de los datos. Pueden ser causados por errores en la recolección de datos o medidas inusuales. Generalmente se recomienda eliminarlos del conjunto de datos."
   ]
  },
  {
   "cell_type": "code",
   "execution_count": 23,
   "id": "a58dd6c6",
   "metadata": {},
   "outputs": [],
   "source": [
    "import numpy as np \n",
    "from scipy import stats \n",
    "import pandas as pd \n",
    "import seaborn as sns\n",
    "from matplotlib import pyplot as plt\n"
   ]
  },
  {
   "cell_type": "code",
   "execution_count": 26,
   "id": "acbe3f0c",
   "metadata": {},
   "outputs": [
    {
     "data": {
      "text/plain": [
       "array([[-5.27899086e-04, -2.74901425e-01, -1.39285562e-01,\n",
       "         1.98468616e+00],\n",
       "       [ 2.82109326e-01,  7.60808658e-01,  3.00981606e-01,\n",
       "         5.40297269e-01],\n",
       "       [ 3.73497287e-01,  3.77813394e-01, -9.02131926e-02,\n",
       "        -2.30594327e+00],\n",
       "       [ 1.14276002e+00, -1.53565429e+00, -8.63752018e-01,\n",
       "         1.01654494e+00],\n",
       "       [ 1.03396388e+00, -8.24492228e-01,  1.89048564e-02,\n",
       "        -3.83343556e-01]])"
      ]
     },
     "execution_count": 26,
     "metadata": {},
     "output_type": "execute_result"
    }
   ],
   "source": [
    "np.random.seed(2022)\n",
    "datos = np.random.randn(5, 4)\n",
    "datos"
   ]
  },
  {
   "cell_type": "code",
   "execution_count": 29,
   "id": "04361032",
   "metadata": {},
   "outputs": [
    {
     "data": {
      "image/png": "[encoded data removed]",
      "text/plain": [
       "<Figure size 432x288 with 1 Axes>"
      ]
     },
     "metadata": {
      "needs_background": "light"
     },
     "output_type": "display_data"
    }
   ],
   "source": [
    "plt.hist(datos)\n",
    "plt.show()"
   ]
  },
  {
   "cell_type": "code",
   "execution_count": 30,
   "id": "aa467a08",
   "metadata": {},
   "outputs": [
    {
     "data": {
      "text/plain": [
       "0.07071269810686631"
      ]
     },
     "execution_count": 30,
     "metadata": {},
     "output_type": "execute_result"
    }
   ],
   "source": [
    "datos.mean()"
   ]
  },
  {
   "cell_type": "code",
   "execution_count": 31,
   "id": "3ed07594",
   "metadata": {},
   "outputs": [
    {
     "data": {
      "text/plain": [
       "0.07071269810686631"
      ]
     },
     "execution_count": 31,
     "metadata": {},
     "output_type": "execute_result"
    }
   ],
   "source": [
    "np.mean(datos)"
   ]
  },
  {
   "cell_type": "code",
   "execution_count": 32,
   "id": "3c01336c",
   "metadata": {},
   "outputs": [
    {
     "data": {
      "text/plain": [
       "0.15050709109865038"
      ]
     },
     "execution_count": 32,
     "metadata": {},
     "output_type": "execute_result"
    }
   ],
   "source": [
    "np.median(datos)"
   ]
  },
  {
   "cell_type": "code",
   "execution_count": 34,
   "id": "eac99c15",
   "metadata": {},
   "outputs": [
    {
     "data": {
      "text/plain": [
       "0.946635400145311"
      ]
     },
     "execution_count": 34,
     "metadata": {},
     "output_type": "execute_result"
    }
   ],
   "source": [
    "np.std(datos)"
   ]
  },
  {
   "cell_type": "code",
   "execution_count": 35,
   "id": "c2e7183b",
   "metadata": {},
   "outputs": [
    {
     "data": {
      "text/plain": [
       "0.896118580808273"
      ]
     },
     "execution_count": 35,
     "metadata": {},
     "output_type": "execute_result"
    }
   ],
   "source": [
    "np.var(datos)"
   ]
  },
  {
   "cell_type": "code",
   "execution_count": 36,
   "id": "28efead6",
   "metadata": {},
   "outputs": [
    {
     "data": {
      "text/plain": [
       "ModeResult(mode=array([[-5.27899086e-04, -1.53565429e+00, -8.63752018e-01,\n",
       "        -2.30594327e+00]]), count=array([[1, 1, 1, 1]]))"
      ]
     },
     "execution_count": 36,
     "metadata": {},
     "output_type": "execute_result"
    }
   ],
   "source": [
    "stats.mode(datos)"
   ]
  },
  {
   "cell_type": "code",
   "execution_count": 37,
   "id": "1bbebaa1",
   "metadata": {},
   "outputs": [
    {
     "data": {
      "text/plain": [
       "array([[ 1.        ,  0.11266004, -0.97980449,  0.61603091, -0.18748149],\n",
       "       [ 0.11266004,  1.        , -0.12123091, -0.48611457, -0.86180229],\n",
       "       [-0.97980449, -0.12123091,  1.        , -0.48669134,  0.2925648 ],\n",
       "       [ 0.61603091, -0.48611457, -0.48669134,  1.        ,  0.63443939],\n",
       "       [-0.18748149, -0.86180229,  0.2925648 ,  0.63443939,  1.        ]])"
      ]
     },
     "execution_count": 37,
     "metadata": {},
     "output_type": "execute_result"
    }
   ],
   "source": [
    "np.corrcoef(datos)"
   ]
  },
  {
   "cell_type": "code",
   "execution_count": 38,
   "id": "810b62e4",
   "metadata": {},
   "outputs": [
    {
     "data": {
      "text/plain": [
       "array([[1.        , 0.11266004],\n",
       "       [0.11266004, 1.        ]])"
      ]
     },
     "execution_count": 38,
     "metadata": {},
     "output_type": "execute_result"
    }
   ],
   "source": [
    "np.corrcoef(datos[0], datos[1])"
   ]
  },
  {
   "cell_type": "code",
   "execution_count": 39,
   "id": "38982ad4",
   "metadata": {},
   "outputs": [
    {
     "data": {
      "text/plain": [
       "array([[ 1.13924941,  0.02718936, -1.34082558,  0.88453973, -0.15883937],\n",
       "       [ 0.02718936,  0.0511257 , -0.03514443, -0.14786443, -0.15467411],\n",
       "       [-1.34082558, -0.03514443,  1.64379218, -0.83942618,  0.2977391 ],\n",
       "       [ 0.88453973, -0.14786443, -0.83942618,  1.80971785,  0.67746354],\n",
       "       [-0.15883937, -0.15467411,  0.2977391 ,  0.67746354,  0.63005824]])"
      ]
     },
     "execution_count": 39,
     "metadata": {},
     "output_type": "execute_result"
    }
   ],
   "source": [
    "np.cov(datos)"
   ]
  }
 ],
 "metadata": {
  "kernelspec": {
   "display_name": "Python 3 (ipykernel)",
   "language": "python",
   "name": "python3"
  },
  "language_info": {
   "codemirror_mode": {
    "name": "ipython",
    "version": 3
   },
   "file_extension": ".py",
   "mimetype": "text/x-python",
   "name": "python",
   "nbconvert_exporter": "python",
   "pygments_lexer": "ipython3",
   "version": "3.8.10"
  },
  "toc": {
   "base_numbering": 1,
   "nav_menu": {},
   "number_sections": true,
   "sideBar": true,
   "skip_h1_title": false,
   "title_cell": "Table of Contents",
   "title_sidebar": "Contents",
   "toc_cell": false,
   "toc_position": {},
   "toc_section_display": true,
   "toc_window_display": false
  },
  "varInspector": {
   "cols": {
    "lenName": 16,
    "lenType": 16,
    "lenVar": 40
   },
   "kernels_config": {
    "python": {
     "delete_cmd_postfix": "",
     "delete_cmd_prefix": "del ",
     "library": "var_list.py",
     "varRefreshCmd": "print(var_dic_list())"
    },
    "r": {
     "delete_cmd_postfix": ") ",
     "delete_cmd_prefix": "rm(",
     "library": "var_list.r",
     "varRefreshCmd": "cat(var_dic_list()) "
    }
   },
   "types_to_exclude": [
    "module",
    "function",
    "builtin_function_or_method",
    "instance",
    "_Feature"
   ],
   "window_display": false
  }
 },
 "nbformat": 4,
 "nbformat_minor": 5
}
