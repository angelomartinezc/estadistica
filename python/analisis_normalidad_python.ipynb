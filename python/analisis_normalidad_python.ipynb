{
 "cells": [
  {
   "cell_type": "markdown",
   "id": "6a7fbcbd",
   "metadata": {},
   "source": [
    "# Análisis de normalidad con python"
   ]
  },
  {
   "cell_type": "markdown",
   "id": "568f86d1",
   "metadata": {},
   "source": [
    "Como punto de partidad al trabajar con un set de datos es importante determinar si utilizamos métodos estadísticos paramétricos o no paramétricos. Los métodos estadísticos paramétricos asumen que los datos tiene un distribución conocida, por ejemplo, gaussiana. Si este set de datos no es gaussiana entonces se violan los supuestos de las pruebas estadísticas paramétricas y deben usarse métodos estadísticos no paramétricos."
   ]
  },
  {
   "cell_type": "markdown",
   "id": "c29d8c42",
   "metadata": {},
   "source": [
    "Si se utilizan métodos que asumen una distribución gaussiana y los datos tienen una distribución diferente, los resultados pueden ser engañosos o incorrectos. Existen una serie de técnicas que puede verificar si los datos tienen una distribución gaussiana o similar para usar las técnicas estándar o si tienen otra distribución usar métodos estadísticos no paramétricos."
   ]
  },
  {
   "cell_type": "markdown",
   "id": "a0973126",
   "metadata": {},
   "source": [
    "Existen diversas estrategias para abordar este análisis:\n",
    "- Representaciones gráficas\n",
    "- Test de hipótesis"
   ]
  },
  {
   "cell_type": "code",
   "execution_count": 28,
   "id": "3d9df69f",
   "metadata": {},
   "outputs": [],
   "source": [
    "import pandas as pd\n",
    "import numpy as np\n",
    "from numpy.random import seed\n",
    "from numpy.random import randn\n",
    "import matplotlib.pyplot as plt\n",
    "from matplotlib import style\n",
    "import seaborn as sns\n",
    "import statsmodels.api as sm\n",
    "from scipy import stats\n",
    "plt.style.use('ggplot')\n",
    "import warnings\n",
    "warnings.filterwarnings('ignore')"
   ]
  },
  {
   "cell_type": "code",
   "execution_count": 41,
   "id": "f60d5ef3",
   "metadata": {},
   "outputs": [
    {
     "name": "stdout",
     "output_type": "stream",
     "text": [
      "<class 'pandas.core.frame.DataFrame'>\n",
      "RangeIndex: 544 entries, 0 to 543\n",
      "Data columns (total 4 columns):\n",
      " #   Column  Non-Null Count  Dtype  \n",
      "---  ------  --------------  -----  \n",
      " 0   height  544 non-null    float64\n",
      " 1   weight  544 non-null    float64\n",
      " 2   age     544 non-null    float64\n",
      " 3   male    544 non-null    int64  \n",
      "dtypes: float64(3), int64(1)\n",
      "memory usage: 17.1 KB\n",
      "None\n"
     ]
    },
    {
     "data": {
      "text/html": [
       "<div>\n",
       "<style scoped>\n",
       "    .dataframe tbody tr th:only-of-type {\n",
       "        vertical-align: middle;\n",
       "    }\n",
       "\n",
       "    .dataframe tbody tr th {\n",
       "        vertical-align: top;\n",
       "    }\n",
       "\n",
       "    .dataframe thead th {\n",
       "        text-align: right;\n",
       "    }\n",
       "</style>\n",
       "<table border=\"1\" class=\"dataframe\">\n",
       "  <thead>\n",
       "    <tr style=\"text-align: right;\">\n",
       "      <th></th>\n",
       "      <th>height</th>\n",
       "      <th>weight</th>\n",
       "      <th>age</th>\n",
       "      <th>male</th>\n",
       "    </tr>\n",
       "  </thead>\n",
       "  <tbody>\n",
       "    <tr>\n",
       "      <th>0</th>\n",
       "      <td>151.765</td>\n",
       "      <td>47.825606</td>\n",
       "      <td>63.0</td>\n",
       "      <td>1</td>\n",
       "    </tr>\n",
       "    <tr>\n",
       "      <th>1</th>\n",
       "      <td>139.700</td>\n",
       "      <td>36.485807</td>\n",
       "      <td>63.0</td>\n",
       "      <td>0</td>\n",
       "    </tr>\n",
       "    <tr>\n",
       "      <th>2</th>\n",
       "      <td>136.525</td>\n",
       "      <td>31.864838</td>\n",
       "      <td>65.0</td>\n",
       "      <td>0</td>\n",
       "    </tr>\n",
       "    <tr>\n",
       "      <th>3</th>\n",
       "      <td>156.845</td>\n",
       "      <td>53.041914</td>\n",
       "      <td>41.0</td>\n",
       "      <td>1</td>\n",
       "    </tr>\n",
       "  </tbody>\n",
       "</table>\n",
       "</div>"
      ],
      "text/plain": [
       "    height     weight   age  male\n",
       "0  151.765  47.825606  63.0     1\n",
       "1  139.700  36.485807  63.0     0\n",
       "2  136.525  31.864838  65.0     0\n",
       "3  156.845  53.041914  41.0     1"
      ]
     },
     "execution_count": 41,
     "metadata": {},
     "output_type": "execute_result"
    }
   ],
   "source": [
    "url = ('https://raw.githubusercontent.com/angelomartinezc/estadistica/main/data/Howell.csv')\n",
    "datos = pd.read_csv(url)\n",
    "print(datos.info())\n",
    "datos.head(4)"
   ]
  },
  {
   "cell_type": "code",
   "execution_count": 30,
   "id": "8359ab0b",
   "metadata": {},
   "outputs": [],
   "source": [
    "datos = datos[(datos.age > 15) & (datos.male == 0)]\n",
    "peso = datos['weight']"
   ]
  },
  {
   "cell_type": "markdown",
   "id": "d64d3406",
   "metadata": {},
   "source": [
    "## Representaciones gráficas"
   ]
  },
  {
   "cell_type": "markdown",
   "id": "927eaf6f",
   "metadata": {},
   "source": [
    "### Histograma"
   ]
  },
  {
   "cell_type": "markdown",
   "id": "cf188948",
   "metadata": {},
   "source": [
    "Un gráfico simple y de uso común para verificar rápidamente la distribución de una muestra de datos es el histograma. En el histograma, los datos se dividen en un número predeterminado de grupos llamados bins. Luego, los datos se clasifican en cada contenedor y se retiene el recuento del número de observaciones en cada contenedor."
   ]
  },
  {
   "cell_type": "code",
   "execution_count": 31,
   "id": "2cd41130",
   "metadata": {},
   "outputs": [],
   "source": [
    "# media y desviación típica\n",
    "mu, sigma = stats.norm.fit(peso)"
   ]
  },
  {
   "cell_type": "code",
   "execution_count": 32,
   "id": "dfb57055",
   "metadata": {},
   "outputs": [
    {
     "data": {
      "image/png": "[encoded data removed]",
      "text/plain": [
       "<Figure size 504x288 with 1 Axes>"
      ]
     },
     "metadata": {},
     "output_type": "display_data"
    }
   ],
   "source": [
    "fig, ax = plt.subplots(figsize=(7,4))\n",
    "ax.hist(x=peso, density=True, bins=30, alpha=0.5)\n",
    "ax.set_title('Distribución peso mujeres mayores de 15 años')\n",
    "ax.set_xlabel('peso')\n",
    "ax.set_ylabel('densidad de probabilidad')\n",
    "plt.show()"
   ]
  },
  {
   "cell_type": "markdown",
   "id": "d32ae7ce",
   "metadata": {},
   "source": [
    "### Gráficos Q-Q"
   ]
  },
  {
   "cell_type": "markdown",
   "id": "647573c3",
   "metadata": {},
   "source": [
    "Una gráfica de probabilidad normal, o más específicamente una gráfica cuantil-cuantil (QQ), muestrala distribución de los datos contra la distribución normal esperada."
   ]
  },
  {
   "cell_type": "markdown",
   "id": "8c5c0e37",
   "metadata": {},
   "source": [
    "Para datos distribuidos normalmente, las observaciones deben estar aproximadamente en línea recta. Si los datos no son normales, los puntos forman una curva que se desvía notablemente de una línea recta. Los posibles valores atípicos son puntos en los extremos de la línea, distanciados de la mayor parte de las observaciones."
   ]
  },
  {
   "cell_type": "code",
   "execution_count": 36,
   "id": "2a197775",
   "metadata": {},
   "outputs": [
    {
     "data": {
      "text/plain": [
       "1      36.485807\n",
       "2      31.864838\n",
       "4      41.276872\n",
       "6      38.243476\n",
       "8      34.869885\n",
       "         ...    \n",
       "529    39.405805\n",
       "533    40.823280\n",
       "534    47.031821\n",
       "537    34.246196\n",
       "541    54.062497\n",
       "Name: weight, Length: 198, dtype: float64"
      ]
     },
     "execution_count": 36,
     "metadata": {},
     "output_type": "execute_result"
    }
   ],
   "source": [
    "peso"
   ]
  },
  {
   "cell_type": "code",
   "execution_count": 40,
   "id": "07cfebfe",
   "metadata": {
    "scrolled": true
   },
   "outputs": [
    {
     "data": {
      "image/png": "[encoded data removed]",
      "text/plain": [
       "<Figure size 504x288 with 1 Axes>"
      ]
     },
     "metadata": {},
     "output_type": "display_data"
    }
   ],
   "source": [
    "fig, ax = plt.subplots(figsize=(7,4))\n",
    "sm.qqplot(\n",
    "    peso,\n",
    "    fit   = True,\n",
    "    line  = 'q',\n",
    "    alpha = 0.4,\n",
    "    lw    = 2,\n",
    "    ax    = ax\n",
    ")\n",
    "ax.set_title('Gráfico Q-Q del peso mujeres mayores de 15 años', \n",
    "             fontsize = 10,\n",
    "             fontweight = \"bold\")\n",
    "ax.tick_params(labelsize = 7)"
   ]
  },
  {
   "cell_type": "markdown",
   "id": "d55ae8aa",
   "metadata": {},
   "source": [
    "## Pruebas de contraste numéricas"
   ]
  },
  {
   "cell_type": "markdown",
   "id": "594af78c",
   "metadata": {},
   "source": [
    "Los test Shapiro-Wilk test y D'Agostino's K-squared test son dos de los test de hipótesis más empleados para analizar la normalidad. En ambos, se considera como hipótesis nula que los datos proceden de una distribución normal."
   ]
  },
  {
   "cell_type": "markdown",
   "id": "4dee01d8",
   "metadata": {},
   "source": [
    "Las pruebas suponen que la muestra se extrajo de una distribución gaussiana. Esto se llama hipótesis nula o H0, que habitualmente dice lo contrario de lo que queremos demostrar. Se elige un nivel de umbral llamado alfa (0.05) que se usa para intepretar el valor p."
   ]
  },
  {
   "cell_type": "markdown",
   "id": "fe39a2ed",
   "metadata": {},
   "source": [
    "- p <= 0.05 se rechaza H0, no es normal\n",
    "- p > 0.5 falla al rechazar H0, normal"
   ]
  },
  {
   "cell_type": "markdown",
   "id": "17de6f51",
   "metadata": {},
   "source": [
    "Por eso, si la significación es pequeña, podremos descartarla y decir que los datos no son normales. Pero si la significación es alta, simplemente no podremos rechazarla y diremos que no tenemos capacidad para decir que los datos no siguen una normal, lo que no es lo mismo que poder afirmar que son normales."
   ]
  },
  {
   "cell_type": "markdown",
   "id": "eafcecca",
   "metadata": {},
   "source": [
    "### Shapiro-Wilk"
   ]
  },
  {
   "cell_type": "code",
   "execution_count": 23,
   "id": "3e92b62b",
   "metadata": {},
   "outputs": [
    {
     "name": "stdout",
     "output_type": "stream",
     "text": [
      "Statistics=0.996, p=0.924\n",
      "Sample looks Gaussian (fail to reject H0)\n"
     ]
    }
   ],
   "source": [
    "# Shapiro-Wilk test\n",
    "stat, p = stats.shapiro(peso)\n",
    "print('Statistics=%.3f, p=%.3f' % (stat, p))\n",
    "alpha = 0.05\n",
    "if p > alpha:\n",
    "    print('Sample looks Gaussian (fail to reject H0)')\n",
    "else:\n",
    "    print('Sample does not look Gaussian (reject H0)')"
   ]
  },
  {
   "cell_type": "markdown",
   "id": "7aebfed8",
   "metadata": {},
   "source": [
    "### D'Agostino's K-squared test"
   ]
  },
  {
   "cell_type": "code",
   "execution_count": 25,
   "id": "9dfc6aa7",
   "metadata": {},
   "outputs": [
    {
     "name": "stdout",
     "output_type": "stream",
     "text": [
      "Statistics = 0.19896549779904893, p-value = 0.9053055672511008\n",
      "Sample looks Gaussian (fail to reject H0)\n"
     ]
    }
   ],
   "source": [
    "# D'Agostino's K-squared test\n",
    "stat, p = stats.normaltest(peso)\n",
    "print(f\"Statistics = {stat}, p-value = {p}\")\n",
    "alpha = 0.05\n",
    "if p > alpha:\n",
    "    print('Sample looks Gaussian (fail to reject H0)')\n",
    "else:\n",
    "    print('Sample does not look Gaussian (reject H0)')"
   ]
  },
  {
   "cell_type": "markdown",
   "id": "5663d2a7",
   "metadata": {},
   "source": [
    "Ninguno de los test muestra evidencias para rechazar la hipótesis de que los datos se distribuyen de forma normal (p-value muy próximo a 1)."
   ]
  },
  {
   "cell_type": "markdown",
   "id": "8a015b75",
   "metadata": {},
   "source": [
    "Siempre es conveniente complementar los contrastes numéricos con algún método gráfico para comprobar la normalidad de la variable."
   ]
  },
  {
   "cell_type": "markdown",
   "id": "4d45a929",
   "metadata": {},
   "source": [
    "## Ausencia de normalidad"
   ]
  },
  {
   "cell_type": "markdown",
   "id": "e550e0e8",
   "metadata": {},
   "source": [
    "Una vez que sabemos que los datos no son normales, tendremos que tenerlo en cuenta a la hora de describirlos. Si la distribución es muy sesgada no podremos utilizar la media como medida de centralización y tendremos que recurrir a otros estimadores robustos, como la mediana o el otro abanico de medias disponibles para estas situaciones."
   ]
  },
  {
   "cell_type": "markdown",
   "id": "8cfcc20c",
   "metadata": {},
   "source": [
    "Una de las posibles soluciones a este problema sería intentar una transformación de los datos. La más frecuentemente empleada es la transformación logarítmica, muy útil para aproximar a una normal aquellas distribuciones con sesgo positivo (hacia la derecha). "
   ]
  },
  {
   "cell_type": "code",
   "execution_count": null,
   "id": "dfa34164",
   "metadata": {},
   "outputs": [],
   "source": []
  }
 ],
 "metadata": {
  "kernelspec": {
   "display_name": "Python 3 (ipykernel)",
   "language": "python",
   "name": "python3"
  },
  "language_info": {
   "codemirror_mode": {
    "name": "ipython",
    "version": 3
   },
   "file_extension": ".py",
   "mimetype": "text/x-python",
   "name": "python",
   "nbconvert_exporter": "python",
   "pygments_lexer": "ipython3",
   "version": "3.8.10"
  },
  "toc": {
   "base_numbering": 1,
   "nav_menu": {},
   "number_sections": true,
   "sideBar": true,
   "skip_h1_title": false,
   "title_cell": "Table of Contents",
   "title_sidebar": "Contents",
   "toc_cell": false,
   "toc_position": {},
   "toc_section_display": true,
   "toc_window_display": false
  },
  "varInspector": {
   "cols": {
    "lenName": 16,
    "lenType": 16,
    "lenVar": 40
   },
   "kernels_config": {
    "python": {
     "delete_cmd_postfix": "",
     "delete_cmd_prefix": "del ",
     "library": "var_list.py",
     "varRefreshCmd": "print(var_dic_list())"
    },
    "r": {
     "delete_cmd_postfix": ") ",
     "delete_cmd_prefix": "rm(",
     "library": "var_list.r",
     "varRefreshCmd": "cat(var_dic_list()) "
    }
   },
   "types_to_exclude": [
    "module",
    "function",
    "builtin_function_or_method",
    "instance",
    "_Feature"
   ],
   "window_display": false
  }
 },
 "nbformat": 4,
 "nbformat_minor": 5
}
